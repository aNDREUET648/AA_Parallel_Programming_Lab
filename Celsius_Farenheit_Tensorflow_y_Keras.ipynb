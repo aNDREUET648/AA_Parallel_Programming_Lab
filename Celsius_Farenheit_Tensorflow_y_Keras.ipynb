{
  "nbformat": 4,
  "nbformat_minor": 0,
  "metadata": {
    "colab": {
      "name": "Celsius-Farenheit - Tensorflow y Keras.ipynb",
      "provenance": [],
      "authorship_tag": "ABX9TyNnJD9PZzpnG2yc9AXLFP3W",
      "include_colab_link": true
    },
    "kernelspec": {
      "name": "python3",
      "display_name": "Python 3"
    },
    "language_info": {
      "name": "python"
    }
  },
  "cells": [
    {
      "cell_type": "markdown",
      "metadata": {
        "id": "view-in-github",
        "colab_type": "text"
      },
      "source": [
        "<a href=\"https://colab.research.google.com/github/aNDREUET648/AA_Parallel_Programming_Lab/blob/main/Celsius_Farenheit_Tensorflow_y_Keras.ipynb\" target=\"_parent\"><img src=\"https://colab.research.google.com/assets/colab-badge.svg\" alt=\"Open In Colab\"/></a>"
      ]
    },
    {
      "cell_type": "code",
      "metadata": {
        "id": "Hy_pAhzDZ4gy"
      },
      "source": [
        "import tensorflow as tf   # librería para IA hecha por Google\n",
        "import numpy as np        # para poder trabajar con arrays"
      ],
      "execution_count": 4,
      "outputs": []
    },
    {
      "cell_type": "code",
      "metadata": {
        "id": "MIrfX72vaL1z"
      },
      "source": [
        "# estos son los valores que la red neuronal utilizará para aprender\n",
        "\n",
        "# definición de los arrays donde se inicializarán con los valores entrada de los grados Celsius\n",
        "celsius = np.array([-40, -10, 0, 8, 15, 22, 38], dtype=float)\n",
        "# definición de los arrays donde se inicializarán con los valores salida de los grados Farenheit\n",
        "fahrenheit = np.array([-40, 14, 32, 46, 59, 72, 100], dtype=float)"
      ],
      "execution_count": 5,
      "outputs": []
    },
    {
      "cell_type": "code",
      "source": [
        "# Diseñamos el modelo de red neuronal. Para ello, además de utilizar tensorflow\n",
        "#  utilizaremos el Framework Keras, que nos permitirá definir las RR.NN más simples\n",
        "\n",
        "# Ésta red neuronal será muy simple:  entrada -----------> salida  (2 neuronas)\n",
        "\n",
        "# Definimos una 'capa' tipo densa (Dense)--> una neurona va a todas las otras neuronas \n",
        "# units -> unidades o neuronas en la capa de salida\n",
        "# input_shape -> Aquí le decimos que tenemos una entrada con una neurona también.\n",
        "#                Autorregistra la capa de entrada con una neurona\n",
        "#\n",
        "capa = tf.keras.layers.Dense(units=1, input_shape=[1])\n",
        "# Definimos que crearemos un modelo secuencial (simple) utilizándolo con la 'capa'\n",
        "modelo = tf.keras.Sequential([capa])\n",
        "\n",
        "#oculta1 = tf.keras.layers.Dense(units=3, input_shape=[1])\n",
        "#oculta2 = tf.keras.layers.Dense(units=3)\n",
        "#salida = tf.keras.layers.Dense(units=1)\n",
        "#modelo = tf.keras.Sequential([oculta1, oculta2, salida])"
      ],
      "metadata": {
        "id": "5-lsJlA5YtuK"
      },
      "execution_count": 6,
      "outputs": []
    },
    {
      "cell_type": "code",
      "source": [
        "# El siguiente paso es compilarlo. Prepara el modelo para ser entrenado.\n",
        "# Definiremos 2 propiedades el optimizador y la función pérdida\n",
        "# optimizer --> Emplearemos el Adam, y permite a la red neuronal como ajustar\n",
        "#               los pesos y los sesgos de manera eficiente (que aprenda y no des-aprenda)\n",
        "# loss --> para la pérdida usaremos el error cuadrático medio (mse)\n",
        "modelo.compile(\n",
        "    optimizer=tf.keras.optimizers.Adam(0.1),\n",
        "    loss='mean_squared_error'\n",
        ")"
      ],
      "metadata": {
        "id": "H5q7v2CKePhh"
      },
      "execution_count": 7,
      "outputs": []
    },
    {
      "cell_type": "code",
      "metadata": {
        "colab": {
          "base_uri": "https://localhost:8080/"
        },
        "id": "4D-NuUTnbabR",
        "outputId": "27a7c14f-760c-4d04-84ef-44f260b06935"
      },
      "source": [
        "print(\"Comenzando entrenamiento...\")\n",
        "# para entrenarlo lo haremos con la propiedad fit\n",
        "# .fit(datos_entrada, resultados_esperados, vueltas que dará (épocas), resultado verbalizado no)\n",
        "historial = modelo.fit(celsius, fahrenheit, epochs=1000, verbose=False)\n",
        "print(\"Modelo entrenado!\")"
      ],
      "execution_count": 8,
      "outputs": [
        {
          "output_type": "stream",
          "name": "stdout",
          "text": [
            "Comenzando entrenamiento...\n",
            "Modelo entrenado!\n"
          ]
        }
      ]
    },
    {
      "cell_type": "code",
      "metadata": {
        "colab": {
          "base_uri": "https://localhost:8080/",
          "height": 297
        },
        "id": "px43cF3Nb3mG",
        "outputId": "6cc3b2c5-66a2-4bd9-8122-a9e36de469d7"
      },
      "source": [
        "# Ya tenemos el modelo entrenado, ahora queremos ver el resultado de la función de pérdida (loss)\n",
        "# Que tan mal están los resultados de la red en cada paso (vuelta o época)\n",
        "\n",
        "import matplotlib.pyplot as plt\n",
        "plt.xlabel(\"# Epoca\")\n",
        "plt.ylabel(\"Magnitud de pérdida\")\n",
        "plt.plot(historial.history[\"loss\"])\n",
        "\n",
        "# claramente vemos que con 500 o 600 épocas la mejora es ínfima.\n",
        "# Por lo que no hace falta hacer las 1000 épocas"
      ],
      "execution_count": 9,
      "outputs": [
        {
          "output_type": "execute_result",
          "data": {
            "text/plain": [
              "[<matplotlib.lines.Line2D at 0x7f0464ad4910>]"
            ]
          },
          "metadata": {},
          "execution_count": 9
        },
        {
          "output_type": "display_data",
          "data": {
            "image/png": "[encoded data removed]",
            "text/plain": [
              "<Figure size 432x288 with 1 Axes>"
            ]
          },
          "metadata": {
            "needs_background": "light"
          }
        }
      ]
    },
    {
      "cell_type": "code",
      "source": [
        "# Veamos como predice 100 ºC a ºF.......\n",
        "print(\"Hagamos una predicción!\")\n",
        "resultado = modelo.predict([100.0])\n",
        "print(\"El resultado es \" + str(resultado) + \" fahrenheit!\")"
      ],
      "metadata": {
        "colab": {
          "base_uri": "https://localhost:8080/"
        },
        "id": "E3kPLuf8hEa_",
        "outputId": "9e2cb01b-75e8-4607-f407-a9291f57b948"
      },
      "execution_count": 10,
      "outputs": [
        {
          "output_type": "stream",
          "name": "stdout",
          "text": [
            "Hagamos una predicción!\n",
            "El resultado es [[211.74194]] fahrenheit!\n"
          ]
        }
      ]
    },
    {
      "cell_type": "code",
      "source": [
        "# Veamos como es la estructura interna de la red neuronal\n",
        "print(\"Variables internas del modelo\")\n",
        "print(capa.get_weights())\n",
        "\n",
        "# 'peso' lo asigno a 1.7982885 y el 'sesgo' a 31.913097\n",
        "# Tenemos entrada = 100 ---> in*1.7982 ----> salida = (in*1.7982)+ 31.9130 \n",
        "# La fórmula original de convertir de Celsius a Farenheit es:\n",
        "# Farenheit = (Celsius * 1.8) + 32\n",
        "\n",
        "#print(oculta1.get_weights())\n",
        "#print(oculta2.get_weights())\n",
        "#print(salida.get_weights())"
      ],
      "metadata": {
        "colab": {
          "base_uri": "https://localhost:8080/"
        },
        "id": "dbspzNDxiwzU",
        "outputId": "1971ef3a-47d8-4453-df5f-4d329b3d318c"
      },
      "execution_count": 11,
      "outputs": [
        {
          "output_type": "stream",
          "name": "stdout",
          "text": [
            "Variables internas del modelo\n",
            "[array([[1.7982885]], dtype=float32), array([31.913097], dtype=float32)]\n"
          ]
        }
      ]
    }
  ]
}